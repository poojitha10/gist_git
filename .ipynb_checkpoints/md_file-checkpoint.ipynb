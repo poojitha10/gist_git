{
 "cells": [
  {
   "cell_type": "markdown",
   "metadata": {},
   "source": [
    "# title\n",
    "## sub title\n",
    "### heading\n",
    "#### sub heading\n",
    "##### shift+enter\n",
    "###### ctrl+enter"
   ]
  },
  {
   "cell_type": "markdown",
   "metadata": {},
   "source": [
    "#### next one is order list and unorded list \n",
    "- outdoor games\n",
    "    1.cricket\n",
    "    2.football\n",
    "    3.hockey\n",
    "    4.tennis\n",
    "- indoor games\n",
    "    1.chess\n",
    "    2.carroms\n",
    "    3.ludo\n",
    "    4.cards"
   ]
  },
  {
   "cell_type": "markdown",
   "metadata": {},
   "source": [
    "#### how to place horizontal lines in markdown\n",
    "***\n",
    "    1.git\n",
    "    2.python\n",
    "    3.numpy\n",
    "    4.pandas\n",
    "    5.matplot lib\n",
    "    6.seabron"
   ]
  },
  {
   "cell_type": "markdown",
   "metadata": {},
   "source": [
    "#### text will convert italic and bold using markdown\n",
    "\n",
    "- this is normal text\n",
    "-*this is a italic text*\n",
    "-**this is a bold text**\n",
    "-this is *italic* and **bold**"
   ]
  },
  {
   "cell_type": "markdown",
   "metadata": {},
   "source": [
    "### how to add hyperlinks using markdown\n",
    "- [GOOGLE](https://www.google.com)\n",
    "- [FACEBOOK](https://www.facebook.com)\n",
    "- [APSSDC](https://www.apssdc.in/)"
   ]
  },
  {
   "cell_type": "markdown",
   "metadata": {},
   "source": [
    "### how to get images using markdown\n",
    "- ![image](data:image/jpeg;base64,/9j/4AAQSkZJRgABAQAAAQABAAD/2wBDAAsJCQcJCQcJCQkJCwkJCQkJCQsJCwsMCwsLDA0QDBEODQ4MEhkSJRodJR0ZHxwpKRYlNzU2GioyPi0pMBk7IRP/2wBDAQcICAsJCxULCxUsHRkdLCwsLCwsLCwsLCwsLCwsLCwsLCwsLCwsLCwsLCwsLCwsLCwsLCwsLCwsLCwsLCwsLCz/wAARCAEjALsDASIAAhEBAxEB/8QAHAABAAIDAQEBAAAAAAAAAAAAAAQGAwUHAgEI/8QAThAAAgEDAgMEBgUIBQgLAQAAAQIDAAQRBRIGITETQVFhFCIycYGRQlJyobEHFSMkM2KCwUNjorLRRFNUZHODkpMWNDU2dKOzwsPh8PH/xAAbAQEAAgMBAQAAAAAAAAAAAAAAAwQBAgUGB//EADERAAIBAgMGBAYDAQEBAAAAAAABAgMRBBIhBRMxQVFhInGR0TKBobHh8CNCwfEGFf/aAAwDAQACEQMRAD8A63SlKAUpSgFKUoBSlR1uFN1cWrcnSKGdP3o3LIT8CDn3jxrDdjNrnpp0FxFbjnJJHJMRy9WNCq5PvJAHx8KzVqrZ+013Wif8nsdKgX+NriZvxHyqNr/EVtoyLGirNfSJujiJwka9O0lI548B3+XUROtGMXOTsv1EqoylNQgrt/8ATfV5LovtMq/aIH41yG917XL5mM97OVJ/ZxOYYQPDZHgfPNawsx5nBPnkn76qPGTfww9Xb3LywEV8U/RX9juQIPMEEeRB/CvtcOWSRDlGZT4oSp+YNbG317XrXb2Oo3YC9FkkMqf8M24VlYua+KHo/wDgeAj/AFn6r/p2Clc8s+OtRj2re20Nwve8JMMvvxzQ/IVadP4m0LUSqR3HYztyEN0BE5PgrE7D8GqeGKpzdr2ffQq1MJVgr2uuq1N1SvlfaslUUpSgFKUoBSlKAUpSgFKUoBSlVPiLiyLTjJaWBjku0O2eV/Witz9XAPN/Lu9/KoqtWNKOaRLSozrSywRbK1WrJcQm11S2jaSbTzJ28Kc2uLKXHbRqO9hhXXzXH0q5w/GnEJP/AGiw8khtVH9yvH/TXiNel+598VqfxjqrLEqatkf09y7HByg754/X2Ls+rWdjdcQ6orpNBcabotzaFDyuHf0mJFX3kc/AA+Fc6urye8uJ7m4kMk0zl5GPeT4DwHQDwFRbvVnujI7+27Mx2hVjXcSzbI0AUZJJOB1JPfUIXAz1qslKo7zVkuC8+ZcShSVou7dtfLkbHNKjxyg99ZwwxW9gmfaUyPGlDJ9pmvlffxrWSTVpGU2ndG60ziXWdM2Ik3bWy8vR7ks6AfuN7S/A48qvukcS6VquyJWNvdn/ACecjLH+qfo33Hyrkhk2naw517V+mD0OR7/EVmEp0vgd10f+dCOpSp1vjVn1X+rmd0pXO9D4wubUx22qM89t7Kz82uIvt97L9/v6V0CGaC4iingkSSGVQ8bxkMrKe8EVfpV41eHHocuth50Xrw6mSlKVOVxSlKAUpSgFKVouJNbXR7M9my+m3AdbcNgiNVHrzuDywvd5/HGlSapxcpcEb06cqklCPFmr4s4oTT45rGzl2XAXF3cIedurdI48f0h+73nK8jub6Wdjj1UGdi56DxPn40v72S8lZtzmMOzAuSWkdjlpHJ55NQ6oQi6kt7U48l0/J1HKNKO6pcOb6/joet58TTcfE14r7U9iG563HxoHIPWvNKWFyXDNgjnWyjfcK0anBqfby9KilEmhIlSs6cx0ryl13GpSbWGGAYHqD0I86h3+ntAgurfc1u3tZ5tEfBvKoN4lJRlpfgT5G45o8iYkqvWStHDclCMmttDKJAMHuqSUbGkZXPciBxg/A94NRVkaNyj8iPvqbUa6iLoXX20BI8x3io1p5Ej18zOjgjrW70PX73RpQFzLZu2Z7Ynkc9XiJ5Bvx7/FarBP3E1PVgwBpKGuZaNcxGSacZapnbLK9tNQtobq1kEkMgyCORUjqrDqCO8VJrkmg63caNdBxue0lZRdwj6QHLegP0x3ePTzHVoJ4LmGG4gkWSGZFkjdejK3MGr1CtvFaWjX7c5WJw+5d46xfD2MtKUqyVRSlKAxTzQ20M08zhIoY3lkY9FRRkmuG8U65capfT5JHaYLJnPY245xQD+83mfOr9x/raWVoLJWzlVubpQfaAbEMJx9ZuZ8l8644jO++WQlpJXaR2PezHJqhUe9qW5R+/4OlRW6p3/tL6L8nulK8MSJVT+rDkfa5j7vxqU1PdfDyBPhzr7XpF3SRL3NLGp9zMBWG7K5lK7sJI2ido39pcA+8gGvNbXXrcwajKcYWVVce9RsI+6tZGkkrhIkeRz0VAWP3VFSqZ6am+aJKtPJUcEeazQkgittY8M6pdkFx2a8sqo3uPefZHzq2afwbZQ7Wmwz/vfpH+Z9UfKq1TG0lpDxPt7k8MLPjLQq1ssjgbVZvcCasWnabdTWd520BETqHhLFT2mMq6bQc+BHu86tMOlWEAG2BSR3uA33Hl91ZXCoD7Kge4KB4nyrmV606kbSSSL1JRg/C9Tm0fCN/LIxDlIixMY7M79ndncR+FbOz4ZhR+zF8jyDqgljZx/AnOsGqa+J5XURCeHP6K2laRbbZ1WS6WJld2bqELBVBAIZidmKHVbqOGG5veGtIn0yaQxxuNKjslZlJ3C2uoFGGGDg8+h8OVqMK1SP8lS3y+5G8kHeEPr9ixx8Lwv1uef2W/xqv8R6ZqWiz2LxNbSWFyGDyyo4MUkeCy+q2SSOaj3+GatljcRJDp15aXE1xo2oyG3gN2268068Gf1S4fJLKcEIxJIOBlg4I2GsaamsaVeWRA7SSPfbMcercR+tGfieR8ia1hCVKplqO/z0I51c6vH8nGu1XtHZAQpZioPUAnkK2NtNnAzWoIZSVYEMpKsD1BHIg1nhkKkfCurKOhTjKz1N6D31beD9bNpcLply/wCq3T/oGY8obhu77L9Pfj61UyGUMo51IRJJGSOIEyyOkUQXqZHYKuPiRVabcPGuK/bFqMVVW7fB/t/kdypXiJXSKFJHMkiRojucZdlUAsff1r3XYR58V4lkjhjklkYLHEjySMeiogLEmvdVnjTUUsdHljLYN2xjbngiCMdrKR7wAv8AFUdWpu4OfQlpU95NQ6nIeLNVl1TU5NxP6SX0mRc+zuG2KM/ZXHzrUgYAHgMVgWR7i5mnk9qR2kb3sc4+FSKq04ZIpPjz8y7OeebkuHLyXAYJ5DqeQ+NeJDm9vPBZGjX7Mf6MfhXsHBB8CD8udYZTsv7xT3zzfIsSK2/t+9jV/D8/czVlt4bm4niitonlmLqUSMZOQQedS9N0m81ORRErLCTgyYzu8kFXu20yy0K0M3ZM8qmMKkI3yyzSMIo41PUuzEAd3PyqjicZGm93BXkXKGGcvHLRGPU9ETUpIDJGRgLLJtYDYxUB0Yr3Z8KmafpGlWy7Iljfb1WLbtH2gpJ+ZqvaxfyQzy2s6Q3l5E224STe+mWUo6wQW4IWR16O8m7mMBRiocNxrAtvzi+kWU2nRzdibgadb2qK+dpWO4sFinUg8shsZ5deRoLBScck58OXFIv77+0Y8efBs6KgVQAoAUdAoAH3VKjIqu6TqSXEFrKsksltcStbI1wVa5tLxF7Q2dy6gBgw9aGTA3DkRuGX3qNioHB0ZZZGG1UjdEw4wa1eq8rHUCDj9WnBPgChBPwGam9pyqPOiTRyxSDMcqPHIPFHUqw+Rrac0Rwi0cwvbeWO3v440Iu4mniIA9cSRylXA8+RxUex1fiG8s7DRJ3Y6RYM8io8CowIDBEaQjccEnA+ecDFy1HSb+7eKWG2Rb3bHFeTyXKC0vezURi57NVMyyEAbuWMjv8AaP234WuHIN7fhF747GPDf86fJ+SCre/3anCLTUuYdONWUKs2048jHo7rFoWu2gb9Le6rYfmu3X1ppbm39GklkjjHrbVwu5sYGDk8qvUY2g4+Fa3T9M0rTEZbO3jjL/tJObzS885klfLn51P7VcgUlUUlFPkrEE03KTXN3ORcX2Isdf1IIuIrlkvIwOg7dQ7AfHdWhBwau/5QNh1HTxy3yaYZV8T2E7gj5MT/AA1SFV3ZUQFnY4UDv7+/766VGWaCbKk1roTLeZshcgcizFjhUVRlmY9wHU1d+BbFtS1BL91PotkBcRbhgs7gpCWHifWfy9WqBbxm+uFsbfdJCGja8kjBJuG3YSCLv2k4A8evcAO/cP6Uukabb2xC+kP+nu2XGDO4GVHkowo8hTd56iT5a+3r9vM2lV3dJtc9F/vpw832NtSlK6JyT5XJfyn6kWuBZKxxFHFb4z9KTFxKR8NgrrfLv6d9fnXi++N9q88mfVZ5ZwPDtnLKPgoWqmI1cYd7+n5sXMN4Yzn2t6/i5pIDjdUoNmoCsRWZZKyYTsSuRqdZWlnfX9mZt7s6qJYhyTMS43s3U5AHL3+461XrbaI6rfxMx5cox75WCCq+JbVOTXGxbw7UppPhc6BpKxpIVVVUKm1QoAAHgK2jKj6hw2smOz/O8bHPTelrcvHn+ILitVpzbbgD6wIra3MLTxMiOY5UeOa3lA3GG4hcSRyY78EDI7xkd9eYws1Copvkzt4iDlFxXNHOryC47G/j2kXqtcxvnk/pCysJASe8nd86g6bqXEptI9B7WdNHWdp54JIVVR6xkKdoy78FsHAPXnV61jT73U7n0y30+G0vJtnpu68V7Odwu0yoqR9qG6DOBkDmM868W/C1y5BvL9UXvjsY/WI/20+fuQV11X3WeEGmpcypKlGtkqTunHkQdDMEFpxTalmaa8t9PTTbeHDTyajEZZ45UQdFT1C7HAGRk91XEbuWcbsDIHTPfisdnp2m6bGyWkCRl+crkl5ZT4ySvlz8TWViDVPEVc0Yx6EkF45SXMZNYppo4REZGC9rPFbxjvaWQ4VQPmT7q94qObOFriK6laWSSHf6OJHzHCXG1mRBgbiOWTk49/OonfiS2JINetxFeMgEDlkgkDvIGMn7xX2ik0Ztc9b2r4GOR76+VFvr230yzu7+4I7O1jMm0nG9+iRjzJwP/wCVmLlJpI1aUVc51x3qQbiSBU9ZdMt4IHA+kz5kkT+1g1XJ7jtGNnYB5O2bs2kxtkmBPKNQeiePjjnyGBEurie9urm5lJee6neV8ZJZ5GzgD8Kv/BHBst/Mbm7VlgjOLlxyx3+jRN9Y/wBIR0HLqefr3CNCEI8Zcl379kedhOVaUne0eb7du7/dLlg/J7wutvHHqdwoZY2LWpYftp/Zafn9Feax/E+/pdeI444kjijRUjjVUjRBhVVRgKAO4V7qSnDItdW+JDWqbyV0rJaJdEKUpUpCQdXn9F0rVZ84MdncFT0w5Qqv3kV+bdTYvf3xII2ylACMHagCL18hX6edUdXR1VkdSrKwBVlPIgg8sVzvif8AJ/b3Qe50yMkjJNujBZYx/UM3Ij90/A91VK0ZKaqWurWLlBxlB027Nu/by7HGa+gkVsrzRr61dlAEgVipGDHMrD6Lxv3+WfhWtZSrFGBV16qwKsPeDzrEJxmrxdxUpypu01YyK9TIJ2iiu5l9uEWsy+9LmM1r6zwEsl8n1rKUj3xvHL/I1lpPj2+5iDaen7odOtLhHFtcxnKSKkqkfVYZqzRurorA5DAVzDhbVFaP82zMA6EtbEn2lPMoPMd1XqxuxHiKQ+qfZPhXksRRlhqrpy+R6alUWIpKpE3FfQxFeQQQCDkeVfa1TsYtc+5JqCupae088DTCJopGiVrn9Ak7ISrmBpMBgpypx3jw5mbXl1R1KOquh6q6hlPvDcqymv7C3Q8vNbxjc89uifWeaJV+bNioralbvlbGOS+k6D0f1bZT/WXTjsgPduPlWZbHTkYMtnaK3XctvCCPiFr6sl40xRrZI4EBxIZxI8ngEjVRgeOT8O8ZWXiYdzzbQzoZJ7qRZLmYKH7IEQwxrkrDCG57Rkkk8yTk9wWRSvkjxRRyTSyJHFEu6SSRgqIvixNatuTM6JHrr8iSTyAA5kknurlfGPEJ1i6j0zTyz2VtIQCgJ9Kuem8Adw6L8+/lsdd4jvddZ9J0FZBZu/Y3F1tYNcn/ADaBQW2nwAJPu6WPhX8ncdsI7rVlILAHsCQJZB1xKVPqr+6Dk957q7mCw26eeSvLkund9PuczFVc8ct7R5vr2XX7Gg4M4Iub90vLrMdurevMO7HWK2J5Fu5m6Duya7NbW1tZwQ21tEkUEKhI40HJR+Oe8mvaRxxJHHGqpHGoREQBVVQMAKByxXuuzCFnmlrJ/vocipVzJQirRXL/AF9WKUpUpCKUpQCnKlKA1Gr8PaRrKt6TCFnK7RcRBRJjwfcCrDyIPwrmmt8BazaB3tQt3bLlgBGZ0UDxhbMq/wADEeQrsVKrzw8ZPMtGWaeJnBZXquh+ZLiyaAt6RZ3EQUkNJZv28QI8UlG8fFhWK2FkJo29Mj7M9pHIJopo27ORGjPsB17/ABr9H32i6PqOTd2cTyYx2qgxzD3SR4b76qWo/kz0a6LvbzFGPdcRq5/5kJR/nmo3Ca0av5ez9yZTpSd07Puv9XscORnjZWRiroQVZTggjvBq3aXxUhCQ6kCGGALhBkH/AGi/zrdXf5KtWQk2zxyDu7KdD/ZnVD/arTTfk74riJxazNj6sQb/ANJ2rOJWHxUctVNfJ/c1w+/w8r0mmvNf9LhZ6iSivbzJNCfqMGH3cxWyTU4TjeCD31zJ+GOLNKX0lw9lGGC9rMZ4F3HoAWTBNbW0TjcRrIZLWWE4PaTxOQR47mVTXBqbMktaMrryfsduGMUl/JC3zVvudAW9tW6SAe+snbwn+kX51SRc6qigztYhu7ZFL6x8FAkyTX1bu/3KGkhjBwOUI5k9wZ5GXPvrENk42abUP8+5PGtRlJRUtX5F0NxAOsi/MVimv7K3XfNNHGvcZWVM+7d1qsb93Ka8vB4rgQD526D+9RPzfEd8aAyfWWN3kP8AvHGf7VVXhcQnlcJX8mWdzLoTr/iiK3AWzsrm7mdQyZUwQAEkB2eTDbeR+j3VqbXT9R4tulXWNasbeBHylkshii/3cR2lz4ksPjXqZTLKr845H2qoBDMsSBjl+7mTz/8ArNYhHvYwui72Iyp5q2eQZc91etwGyKapxlNtT5/vt6nL2hCtQ8TV4v6ef7Y6jo3Dmi6IiC0gBlCbfSJApkx4JtAVR5KB8a3PKuXaadZ05hDbXs9tMA0kKSsZrO4jBAKvE+QGXIBIxyINW7SeJUup49P1OEWeot+yw2ba684HPf5H5npV2WG3WkOCOZVwlScN/F5l9V8vYsdKUqE5wpSlAKUpQClKUApSlAKUpQCtZrup/mjS7y+VFkljCJBG5IV5pXEaBsc8DOT5CtnVN49nxaaNaf6Rfmc/YtoyT97CpaUc81FmVxKfc6hunF5fyvf6iRuV5hmC3GSdttCfUUDxrAdS1C+kWJRuZjy3NkL54AAqC7K7u5XJOCAfZAHqge+trpEebhWYDPrYx0wvKuzO1OF7HVwGFWIq2lwWrPT6VfRJ2o7OR8ZfG4ufHmedRRhwVK8/ZZSM/CrlEgatLqNqbS9tbyNR2UkgSYDojk5BI8Dz+J86q0q7btIvY3B0nBypKzX1NWkU0QVWMqK+4wknIIXG5SHz0yPgfKsuxzyMsnuUKPwGa3d/HG8MbMoIiurZ/wCF5BCw+TfdWIvbxTNb28MMlwkU88glmW3ijSFFkYPNICu7BU7RzwcnA5mLE1I0Vnm7IvbNx2ah/Jxjp7EGCylc5VdoJyzvnJ+J5ms93poMSNAT20ILKT9I9/8A+/wqD6ZqE1uJ2vBG57GBLSe4jsbs3lwEK3CQxRkm3TcMbmOcMeeMVvbCC6vbVbgapAjiSWF0ewV4+0hcxsY5IplJQkZU8vcCMCrUxUaPjl1Io7WoYu9Kzs1fzT59fUhpObywEqg+lWZ7ZVPtb4gQyH7Q3A/CpRitNTthFLzDYeKQcnjYjIdD41hey1PTbuW8eKCaykUG5ksDI/Zsv9K9u47QLj2sFsYz0rBpsgUBVYNGGkRGUgoVR2VSGHLGMVZVeFaKnSfAh2cnCpOknpxRa+HNYuZJH0bVH3ahbJvgnJ/67bj6fP6Q+l8+oNWeucak8Jigu4Ly2i1GwcT2rGaMMSvMxkZyQfD/ABq8aTqUOrafaX0XITJ+kTPOKZfVdD7jn/8AGoasNM6Rz9o4VU3vYKyfHs/yT6UpVc5ApSlAKUpQClKUApSlAK5vxxc9rq0ECnK6fpzPJ+7NdPgA+eAD8a6RXK+K7PU7TUdWnuIHa31C7hmgu19aIokQVYGPcy4PLv8Awt4RLeam0eJXVXlnxIPyOa22ktiWHzUitWvJV9w/CptlJ2bRN9VyD7s10cSvAek2K05zj1Rbon2kV6uEhnikjcZSRSrY64PePMdRWvlvIojsQGWXAJRCAEz07R+g92CfKscf53vn2RTrbxLjtZo41O3v2xCXcS3mcAeB6Vwa+Mo4d2nLXpzOpOCTzMjz3UuFsmSSa87aBWgt1BllSKVJDKAxChSADkkDn15VOi0f0gySaltZJJhcDT42L2kcwTs+0kZhlnxjJAUeRxk7C1s7a0VxEpLykNPLIxeadwMbpZG5k+HcO4AcqkV57aG1JYvwxVor1OfSoxp3y8G7lfueH1RZDZzSNGwgM9pdMZorlIH7RYnZjv292Af/ALxWOrwQKsCraF7sPeW9lpYnlNkWKq1n2AXcCDluQAyW5KMZsTyxQpLNKwSKFGmlb6qINxP+FarSbaci3vpZCmHvp7a1REUW/pbsWDyD12IBxzPzwNtCVadVLeybS7+b0+ZiFCnSbdKKV+NtL6W19DPEOKJyHhtIrReqvfTBH9/Y24dvmwqOOGZEeWa4ubMrLI0rQ29myojNzYRmSU4BOT7PUmt0ZJPrGvm4nqSazGsqaap3V+5Ks6le9jUy6FbSwywxuyM6kIwRBtk6o3qgdDg1YODBbHh+wmh3drctPNfF8Z9NDmOYYXkACuF5dAKjp7SfaX8a8cAEvpGouP2Umu6q9ue4xF15r5ZzXT2TUlecL6OxR2lOTp2b5lupSld48+KUpQClKUApSlAKUpQCqX+UGXbY6XB/nbuWb4RQMv8A7qulc+/KJJ+l0OPwiv3/AOIxL/KrGFV6sTaPEpg7qyRybCQTtDYO7vGOR2+dR0fpSVvZx5/4V3JRUlZnRwmIlhqqqRVzdWEqyW4Xl2kJ2SYGNxPMSY/eHP5+FWixULbQ4+kCx8yTVKXtIjFJEQJEQIQ2dkidSj4+YPcffg77TdXtyBC5Kt17KQgSoT9XuI8xn+VfMtpYGeHrOotYvn7nqq9OUSwUrAbq2VS7SoiAZLSHYAPMtgVqLzWzPi10ks8khKNdgEKg7/Rtw5t+9jA7snpToUJ4iWWmrlVRlJ2itTHrWp2rT/m8SZS2dJLxYlaR5J1wyQYQYwpwz5I54H0TUJNWuUAVYJxGvJcSxF8eaEgf2jUqDSLeNVEjM2PoqSqZ68z7R8zms502xPRGH2Xb+deljsWhb+Rtv0LkKNOKtJ3I6a8Vxv7df9pA5Hzi3Cs44ksR7cgz5RXBPyCZrFJplnGNzzvEvjI8aj+0BWAQ6YCAsl5cE9BBGcH+Ngq/fUU9iUI+LO0u9jLo03wf0J8Fzq/Eb3Gn6MhtogqJfajdDYbeGXcP1eA+uXIBwTge7rV+03T7PSrGz0+zQrb2sYjjDc2bqWdj4sck+Zqq8EpHLNrd7boEtGNtYhTIrSCe23mTeFzj2lI5nOautXqOFpYZZaTv3PJbSqXrOCd0hSlKnOYKUpQClKUApSlAKUpQCqRx5pV9dR2F/bRPMlmlxHcpGC0iI5VhIFHMgYO7HT3dLvSpKdR05KSMp2dzgKsCAVII8jX3OeZxgc+fTHXnXZb3hnhrUJGludNgMzc2kh3wSMfFmhKk/Gq3xLwzwzpOg6xeW1j+spCkUDyz3Eux55EhDKHcjI3ZHKuk8fBRu0yeE7ySXEpkUrvHG7IPXUMADzAPTrXpjG42um4eDoGH86+AAAKOigAe4DFZI43lOFGa8h/9mqr54po+mqn4UmzGI7XIPZDl0JQnHuBrZW15Y2illjmlmYYZm2RgDwXmx+6o4sbgn6IrINPfvcfCopbcsrRjFepo6cLWMsutXfSC2twPGWSRj8lUCo7alqL53Hr3RztEv/lRBv7VSFsIh7TE1nS3gTog+POqNXbdWWifpp9eJE6NM1ySXjHMdtaqx+mVmlf4s7A/fWcWt3cEC6nYxkjMUYESEeDBOZ+LGp4AHQAULBAznois59ygsa5FTFzqO/P1f1MbqC1t6m7/ACeoF07XSowja9eCMDGAqRQpyxV0qq8AwmPhmxlb2rye9vW8SJZ3Cn5AVaq99RWWCTPnWJlmrSa6ilKVKQClKUApSlAKUpQClKUApSlAKq3HoY8M6iR0WewZvcLmOrTVe40Tfwvr48LdJPjHNG4/CtZq8WS0napHzOZ1PsAPXbwrXIcpGfFUPzArY6efbFeIxHwM+pSd43NhXylK5JCK+1Cn1C3hOG65wM958AOp+VYo7i4ui2xXRR3spXPuzz+6p1Qm1meiM87Gw3pnGefhUPVpjBpmpSD2vR3jX7UhEf8AOpEUIj5k5bvJqLqqdtBZW3dd6rptsR4h5hyrfDwUq8IrqiGvLJTk+x0/R7QWOk6RZgY9GsbWE/aWNQx+ean0pX0VaHzRu7uKUpQwKUpQClKUApSlAKUpQClKUArQ8Yf92eIf/BP/AHlrfVD1PT7fVbG80+4aVYLqPspGhYLIFyG9UkEd3hWGrqxtB2kmzjkf7OMfuJ+AqXZvskx41n1vRZNJ1i30u2vpJIpdO9NWS8iidwRK0Rj/AEQTlyBzUUWmooQQbN8d+Z4z+DV5DE0lBunNq59Ho46lVpqUb2NxSoaSakoANvanH+syD/4a99pqTbgkFpuCswUSTysSATgBUX8a4+4le2nqjZ14I1k6p6bfkAb+1A5Y3BezQgeOK2lmoEWe8nnUaK3huENxcJDK9z2c+RHs2BokUKhyW7vrVkW0jQYjlu4x4R3U4HyLGrdZqUVC+qI1ibRskTgGPQE+4VCeSC41Phy0hkWa4TXNOmlhg/SvHFHJlnkEecAd+cVB1Cz7VLWzge5lvtSuobG07a5nkCM7DdIVZtvqjryrrmm6Zp+lWsFpZQRRRxRxxlo0RGlKKF3yFRksepJ8a6OzNnKclXzaJ9DkbS2lu47pR1ZNpSlesPHilKUApSlAKUpQClKUApSlAKUpQClKUBQeOIey1fhe+57ZkvdOc9wJAkQE+fOtUMEjPSrpxZpMur6NcQ24ze2rx31jjqZ4MnYPtDIHmRVCtLqO7gWVeTA7ZkPJopR7SMDzrzG2KLU1UXBnpdl1VKlk5osMFnYsits3EgZ3Mx+7OKmIkcYAjVVA7lAA+6tLbXbREA81raxXEUg5EZ8K48WjoTTNHdacbR3jhupuxNleS2MCJEZPS45II4bcswJZXMgVRyI+scZXCGBaWMh0libbNDKpSWJvCRG5jyPQ9xNbK+2z3r28aM94LKKDTdmR2N9NKbn0gy42r2Sornnkg4AOcVZr/TNP1IIbhGWaLIguYD2dzDk59R8dPFSCPKppqMrX0ZReLdKbT1RVuE7T848RXuoOM22hQ+h2x+i17cA9ow+yuR/EK6PXP9D4f4pgtbuHTuJks7aPU9RTsxpkE0jyRztEZJZHbJLbQfu7q93+qcc8OSyPeXVhq9pDai+m/VfRLg26TpBL2XZeruXcpOfreVetw0VSoxilpY4+JvXquSa8i+0rHDLFPDDPEd0c0aSxt9ZHUMDWSrhQFKUoBSlKAUpSgFKUoBSlKAUpSgFKUoBVU1vhC3v55NR0ycWGqPzlYLutbs9f1iId5+sPiDVrpWk4RmssldG9OpKnLNB2ZyO4luNNuTY6xElpdiNZg0cgltZImYoJFkXmoJGPWA/xkCbsuzYb3MjBYY4cM87nmEi7iT49B1PIVsoJBe8TcXagwBjhnttHiB5rstlBlHuJ61GsbK/tow1raWVrdiNzPcXqCc3FxIxZhFHbyALHnzyeQ2gDn4XGyo0q86cNMtufX6/c9VSxE3TTnxJunRXMk8Syqii01Oa8v592Wnv0gNusECjmIolYLuOC23oASTaEJJAB6kCqxa3MdjCkN5FcwkNJJLdN+swTSyuZJJHlgUFckk+tGoHTuqRJdx3iXFvBdpFYqh/OupiRRbWlsR68cM2dpmcHaMEhc5PPCtz408RisQoU18+Vut/3oUKySWZm/wBAw+ntcjO29vdRvYs98M1zI0bfFdp+NROJLftjp6nGLqDWtMcHvS50+WfHziU/CpunajazPHZRWV3aRraiWwFzCIVuLWJhCWijJ7QBcpkMqnDLy58sWuMqvoRJxtv7uQ/ZTSr4k19IhFRgo9LI5EW95cwcGXDXPC/D0jnLLaCAk/6u7QD+7Vgqr8AqRwpohP0/THHua6lIq0VvD4UaVUlUkl1YpSlbEYpSlAKUpQClKUApSlAKUpQClKUArDczx2ttdXUn7O2gluH5/RiQufwrNVa44untuGtWWMkTXgh0+EDqzXMixkfLdWG7K5tCOaSRVOH5ja6VBPfRzQjUJZ9RN1Iu62kNy5Yb5EzsPT2seROeW/jZJlDwukqHmGhdZFPxQkVOtYFtLa1tU5LbW8NuMeEaBP5Vgl0rRpmLy6dYu5OSxt4gxPmwANebxn/nI15urCpZvjdX9i9DadtJR9CPLNDaqZJ5ooAoJDTSpHzA6DeRWq01J4G0mGCzN7bw2NpqOnRGRUsra7u0Er3Ny5yAqkTbW2sRggDc2amtbWtveyQW9tb6eY1hktzp+kC91O8R0DGWKRo2iRAcqSVOCOZG4Z1k0a9vPNZQ3eoxsxOpadLdpeSXbqzPH2sWkQyQIqsxaRDIofvUt1sbN2Ytn5vHmbtytwv5klStv0tLFo0m7smvo5Xe5vrzUVnhXVWiEdhJ2IEzW2nqz7hEACQVUhtuS7kZqJxlepbR3MmTmw0TVLg4+jPfFNOt/nmXH2an2B0qGD893t+l3KLVpjfP6ttBbMAWWzhBKonIDvY4AYselYuO14h1yw010ZfSbqHXNYjYHNrp1mNtlZS8zhmyXcdzSn6tdl3tYrU0nPNyRddAsjp+iaJZkEPb2FskgPdIUDP95NbOlK3SsVW7u4pSlZMClKUApSlAKUpQClKUApSlAKUpQCqVx/JNFb8OSEKLOHWYbi6klV2hR4lJi7bsyG2k5Bwf8Dda8SRRTRyRSxpJHIpV0kVXR1PcytyIrEldWN6csklJop1tr9jKivdK1sD/AEyt6TYt5rcwjl/GqVuLQwXRieKSOaEkEvA6SoR1xujJFa+64E0CSRp9PkvdKnOTu06dliyfGF8rj3YrTzcFcSwuZLXUtKuz13Xto9rOffPaEtn403klxRI6NCesZW8y56tpyaraC2MvZ7ZophujWaFymfUngchHQ56Hvweq1gj4fsCipeSXV8qhQI7qXbagKMALZ2wS2x4foz76qaaf+UK3wp09ZlH+i8R6jCvwE0v8q9tZ8cTLsbQVwevp3E+ozxH7Ucc4B+VaN87G+7srKaMnFFg+nS6eNKSGQXt2iW2kGaKC3TUX/Z3iwnAKjB3DoGw2Mkk7/hvQF0S1maeUXOqX7i41K65/pJOeETPPYuTjxyTyzgafT+FtckuLKbUpNGsba3u7a9Nnodpte4lt37WMT3Uw7QgHmeZz94u1ZitbsxUqWiqadxSlK3KwpSlAKUpQClKUApSlAKUpQClKUApSlAKUpQClKUB8pSlDB9pSlDIpSlAKUpQClKUB/9k=)"
   ]
  },
  {
   "cell_type": "markdown",
   "metadata": {},
   "source": [
    "### how to highlitied particular line using markdown\n",
    "- here writing python program\n",
    "- markdown is used for writing digital documentation\n",
    "\n",
    "`python\n",
    "a=int(input('enter a number'))\n",
    "if a%2==0:\n",
    "    print(a,'is even number')\n",
    "else:\n",
    "    print(a,'is odd number')\n",
    "`\n",
    "- above backward quotation are defined highlited text for particular selected text"
   ]
  },
  {
   "cell_type": "code",
   "execution_count": null,
   "metadata": {},
   "outputs": [],
   "source": []
  }
 ],
 "metadata": {
  "kernelspec": {
   "display_name": "Python 3",
   "language": "python",
   "name": "python3"
  },
  "language_info": {
   "codemirror_mode": {
    "name": "ipython",
    "version": 3
   },
   "file_extension": ".py",
   "mimetype": "text/x-python",
   "name": "python",
   "nbconvert_exporter": "python",
   "pygments_lexer": "ipython3",
   "version": "3.8.5"
  }
 },
 "nbformat": 4,
 "nbformat_minor": 4
}
